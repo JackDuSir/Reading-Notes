{
 "cells": [
  {
   "cell_type": "markdown",
   "metadata": {},
   "source": [
    "## 基本语法\n",
    "\n",
    "### 五种基本句型：主谓结构句型\n",
    "\n",
    "英语句子的基本结构可以归纳成五种基本句型及其扩大、组合、省略或倒装。掌握这五种基本句型，是掌握各种英语句子结构的基础。\n",
    "\n",
    "**Subject (主语) ＋ Verb (谓语) **\n",
    "\n",
    "这种句型中的动词大多是不及物动词，所谓不及物动词，就是这种动词后不可以直接接宾语。常见的动词如：work, sing, swim, fish, jump, arrive, come, die, disappear, cry, happen等。如：\n",
    "\n",
    "1. The sun was shining.                    \n",
    "2. The universe remains.          \n",
    "3. We all breathe, eat, and drink.    \n",
    "4. Lucy and Mary get up early every morning.\n",
    "5. What he said does not matter.     \n",
    "\n",
    "英语五种基本句型列式如下：\n",
    "\n",
    "- 基本句型一：  Ｓ+Ｖ      （主＋谓）\n",
    "- 基本句型二：  Ｓ+Ｖ+Ｐ    （主＋谓＋表）\n",
    "- 基本句型三：  Ｓ+Ｖ+Ｏ    （主＋谓＋宾）\n",
    "- 基本句型四：  Ｓ+Ｖ+ｏ+Ｏ  （主＋谓＋间宾＋直宾）\n",
    "- 基本句型五：  Ｓ+Ｖ+Ｏ+Ｃ  （主＋谓＋宾＋宾补）\n",
    "\n",
    "英语五大句型是掌握英语的基础，今天小编和大家分享了五大基本句型中的主谓结构，主谓结构在学习英语语法的过程中算是比较好理解，也比较简单的类型，多加练习，相信大家很快就能掌握这个句型。"
   ]
  },
  {
   "cell_type": "markdown",
   "metadata": {},
   "source": [
    "## Reference\n",
    "\n",
    "### 时态\n",
    "\n",
    "- [如何准确使用英语时态？](https://www.zhihu.com/question/31924369) - 知乎\n",
    "\n",
    "- [英语时态汇总表](http://blog.sina.com.cn/s/blog_53a7cd230100ocjr.html) - 新浪博客\n",
    "\n",
    "- [英语十六时态表格总结(很全面)](https://wenku.baidu.com/view/53f046e33186bceb19e8bb6e.html) - 百度文库\n",
    "\n",
    "- [英语时态，看到过的最好讲解没有之一](http://darrenzhu.iteye.com/blog/2370597) - ITeye博客\n",
    "\n",
    "- [英语时态总结(完整)](https://wenku.baidu.com/view/0493501c59eef8c75fbfb3f4.html) - 百度文库\n",
    "\n",
    "- [[试题资料] 英语时态表！史上超全的英语时态总结！收藏吧！](http://www.jzb.com/bbs/thread-1354540-1-1.html) - 家长帮社区\n",
    "\n",
    "- [16个动词时态的形式和用法](http://www.24en.com/p/175921.html) - 爱思英语\n",
    "\n",
    "- []()\n",
    "\n",
    "## 基本语法\n",
    "\n",
    "- [如何较为轻松地搞定英语语法？](https://www.zhihu.com/question/20981568) - 知乎\n",
    "\n",
    "- [英语基础语法知识](https://wenku.baidu.com/view/8a23a8114431b90d6c85c73c.html) - 百度文库\n",
    "\n",
    "- [英语语法之一：基本句型、动词分类、补语](https://liam0205.me/2014/06/21/basic-sentence-and-the-complement/) - Blog\n",
    "\n",
    "- [简单句的五种基本句型是哪几种？](https://www.zhihu.com/question/50702152) - 知乎\n",
    "\n",
    "- [英语五种基本句型](http://www.360doc.com/content/11/1125/08/7237400_167195306.shtml) - 个人图书馆\n",
    "\n",
    "- []()\n",
    "\n",
    "## 句型\n",
    "\n",
    "- [英语句型大全手册详尽版](https://wenku.baidu.com/view/7d2aebd382d049649b6648d7c1c708a1284a0ac0.html?re=view) - 百度文库\n",
    "\n",
    "- []()\n",
    "\n",
    "- []()\n",
    "\n",
    "- []()\n",
    "\n",
    "- []()\n",
    "\n",
    "- []()"
   ]
  },
  {
   "cell_type": "code",
   "execution_count": null,
   "metadata": {
    "collapsed": true
   },
   "outputs": [],
   "source": []
  }
 ],
 "metadata": {
  "kernelspec": {
   "display_name": "Python 3",
   "language": "python",
   "name": "python3"
  },
  "language_info": {
   "codemirror_mode": {
    "name": "ipython",
    "version": 3
   },
   "file_extension": ".py",
   "mimetype": "text/x-python",
   "name": "python",
   "nbconvert_exporter": "python",
   "pygments_lexer": "ipython3",
   "version": "3.5.4"
  }
 },
 "nbformat": 4,
 "nbformat_minor": 1
}
